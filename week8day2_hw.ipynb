{
 "cells": [
  {
   "cell_type": "markdown",
   "id": "50c06538",
   "metadata": {},
   "source": [
    "<a id=\"hw\"></a>\n",
    "\n",
    "## Homework"
   ]
  },
  {
   "cell_type": "markdown",
   "id": "b45b6bd2",
   "metadata": {},
   "source": [
    "Design a flexible OOP system to describe characters in a RPG game\n",
    "\n",
    "There are 4 Unique Characters which use Different Types of Attacking mechanisms and Defending mechanisms.\n",
    "\n",
    "- Orges - fights with club and defends with shield\n",
    "- Peons - fights with club and defends with shield\n",
    "- Knights - fights with a Sword and defends with Armor\n",
    "- Archer - fights with Bow and Arrow and has only is tunic to protect them\n",
    "\n",
    "- All Characters can collect gold and this will always be the same for every new type of character\n",
    "\n",
    "At the end of this each character should be able to attack and defend and collect gold. If needed any character should be able to change his fighting style, say if a knight losing his sword, but finds a club he should be able to change his fighting mechanism to use the club\n",
    "\n",
    "<b>Hint: </b> To complete this assignment you will need multiple classes and interfaces and an Abstract class\n",
    "\n",
    "You can use our [Final Rubber Ducky Walkthrough](#rubber) example as a guide "
   ]
  },
  {
   "cell_type": "code",
   "execution_count": 11,
   "id": "34f42c98",
   "metadata": {},
   "outputs": [],
   "source": [
    "//Solution\n",
    "\n",
    "//Interface\n",
    "interface Attackable {\n",
    "    attack():void\n",
    "}\n",
    "\n",
    "interface Defendable {\n",
    "    defend():void\n",
    "}\n",
    "\n",
    "//Set classes to implement interface\n",
    "\n",
    "// Attacks - club, sword, bow and arrow\n",
    "\n",
    "class Club implements Attackable{\n",
    "    attack():void{\n",
    "        console.log(\"Attacks with club.\")\n",
    "    }\n",
    "}\n",
    "\n",
    "class Sword implements Attackable{\n",
    "    attack():void{\n",
    "        console.log(\"Attacks with sword.\")\n",
    "    }\n",
    "}\n",
    "\n",
    "class BowAndArrow implements Attackable{\n",
    "    attack():void{\n",
    "        console.log(\"Attacks with bow and arrow.\")\n",
    "    }\n",
    "}\n",
    "\n",
    "// Defends - shield, armor, tunic\n",
    "\n",
    "class Shield implements Defendable{\n",
    "    defend():void{\n",
    "        console.log(\"Defends with shield.\")\n",
    "    }\n",
    "}\n",
    "\n",
    "class Armor implements Defendable{\n",
    "    defend():void{\n",
    "        console.log(\"Defends with armor.\")\n",
    "    }\n",
    "}\n",
    "\n",
    "class Tunic implements Defendable{\n",
    "    defend():void{\n",
    "        console.log(\"Defends with tunic.\")\n",
    "    }\n",
    "}\n",
    "\n",
    "// Abstract class for character\n",
    "\n",
    "abstract class Character implements Attackable, Defendable{\n",
    "    protected gold: number = 0;\n",
    "    protected attackAbility$: Attackable;\n",
    "    protected defendAbility$: Defendable;\n",
    "\n",
    "    constructor(protected name$: string) {}\n",
    "\n",
    "    collectGold(amount: number): void {\n",
    "        this.gold += amount;\n",
    "        console.log(`${this.name$} collected ${amount} gold. Total gold: ${this.gold}`);\n",
    "    }\n",
    "\n",
    "    get name():string{\n",
    "        return this.name\n",
    "    }\n",
    "\n",
    "    set attackAbility(aa:Attackable){\n",
    "        this.attackAbility$ = aa\n",
    "    }\n",
    "\n",
    "    set defenAbility(da:Defendable){\n",
    "        this.defendAbility$ = da\n",
    "    }\n",
    "\n",
    "    attack():void{\n",
    "        this.attackAbility$.attack()\n",
    "    }\n",
    "\n",
    "    defend():void{\n",
    "        this.defendAbility$.defend()\n",
    "    }\n",
    "}\n",
    "\n",
    "// Concrete classes for different characters\n",
    "class Ogre extends Character {\n",
    "    attackAbility$: Attackable = new Club();\n",
    "    defendAbility$: Defendable = new Shield();\n",
    "\n",
    "    constructor(name: string) {\n",
    "        super(name); \n",
    "    }\n",
    "}\n",
    "\n",
    "class Peon extends Character {\n",
    "    attackAbility$: Attackable = new Club();\n",
    "    defendAbility$: Defendable = new Shield();\n",
    "    constructor(name: string) {\n",
    "        super(name);\n",
    "    }\n",
    "}\n",
    "\n",
    "class Knight extends Character {\n",
    "    attackAbility$: Attackable = new Sword();\n",
    "    defendAbility$: Defendable = new Armor();\n",
    "\n",
    "    constructor(name: string) {\n",
    "        super(name);  \n",
    "    }\n",
    "\n",
    "}\n",
    "\n",
    "class Archer extends Character {\n",
    "    attackAbility$: Attackable = new BowAndArrow();\n",
    "    defendAbility$: Defendable = new Tunic();\n",
    "    constructor(name: string) {\n",
    "        super(name);\n",
    "    }\n",
    "}\n",
    "\n"
   ]
  },
  {
   "cell_type": "code",
   "execution_count": 12,
   "id": "b0ce6f48",
   "metadata": {},
   "outputs": [
    {
     "name": "stdout",
     "output_type": "stream",
     "text": [
      "Attacks with club.\n",
      "Defends with shield.\n",
      "Ogre collected 10 gold. Total gold: 10\n"
     ]
    }
   ],
   "source": [
    "const ogre = new Ogre(\"Ogre\");\n",
    "ogre.attack();\n",
    "ogre.defend();\n",
    "ogre.collectGold(10);"
   ]
  },
  {
   "cell_type": "code",
   "execution_count": 13,
   "id": "4030b015",
   "metadata": {},
   "outputs": [],
   "source": [
    "let shrek = new Ogre('Shrek');\n",
    "let peon = new Peon('Beth');\n",
    "let brian = new Knight('Brian');\n",
    "let legolas = new Archer('Legolas');"
   ]
  },
  {
   "cell_type": "code",
   "execution_count": 14,
   "id": "935d578f",
   "metadata": {},
   "outputs": [
    {
     "name": "stdout",
     "output_type": "stream",
     "text": [
      "[\n",
      "  Ogre {\n",
      "    'name$': 'Shrek',\n",
      "    gold: 0,\n",
      "    'attackAbility$': Club {},\n",
      "    'defendAbility$': Shield {}\n",
      "  },\n",
      "  Peon {\n",
      "    'name$': 'Beth',\n",
      "    gold: 0,\n",
      "    'attackAbility$': Club {},\n",
      "    'defendAbility$': Shield {}\n",
      "  },\n",
      "  Knight {\n",
      "    'name$': 'Brian',\n",
      "    gold: 0,\n",
      "    'attackAbility$': Sword {},\n",
      "    'defendAbility$': Armor {}\n",
      "  },\n",
      "  Archer {\n",
      "    'name$': 'Legolas',\n",
      "    gold: 0,\n",
      "    'attackAbility$': BowAndArrow {},\n",
      "    'defendAbility$': Tunic {}\n",
      "  }\n",
      "]\n"
     ]
    }
   ],
   "source": [
    "let allChars: Character[] = [shrek, peon, brian, legolas]\n",
    "console.log(allChars)"
   ]
  },
  {
   "cell_type": "code",
   "execution_count": 15,
   "id": "df836274",
   "metadata": {},
   "outputs": [
    {
     "name": "stdout",
     "output_type": "stream",
     "text": [
      "6\n"
     ]
    }
   ],
   "source": [
    "function getRandomNumber():number{\n",
    "    return Math.ceil(Math.random()*25)\n",
    "}\n",
    "\n",
    "getRandomNumber()"
   ]
  },
  {
   "cell_type": "code",
   "execution_count": 16,
   "id": "15a6f822",
   "metadata": {},
   "outputs": [
    {
     "name": "stdout",
     "output_type": "stream",
     "text": [
      "Attacks with club.\n",
      "undefined\n",
      "Defends with shield.\n",
      "undefined\n",
      "Shrek collected 21 gold. Total gold: 21\n",
      "Attacks with club.\n",
      "undefined\n",
      "Defends with shield.\n",
      "undefined\n",
      "Beth collected 23 gold. Total gold: 23\n",
      "Attacks with sword.\n",
      "undefined\n",
      "Defends with armor.\n",
      "undefined\n",
      "Brian collected 9 gold. Total gold: 9\n",
      "Attacks with bow and arrow.\n",
      "undefined\n",
      "Defends with tunic.\n",
      "undefined\n",
      "Legolas collected 4 gold. Total gold: 4\n"
     ]
    }
   ],
   "source": [
    "for (let char of allChars){\n",
    "    console.log(char.attack())\n",
    "    console.log(char.defend())\n",
    "    char.collectGold(getRandomNumber())\n",
    "}"
   ]
  },
  {
   "cell_type": "code",
   "execution_count": 16,
   "id": "279f4f68",
   "metadata": {},
   "outputs": [
    {
     "name": "stdout",
     "output_type": "stream",
     "text": [
      "BowAndArrow {}\n"
     ]
    }
   ],
   "source": [
    "brian.attackAbility = new BowAndArrow()"
   ]
  },
  {
   "cell_type": "code",
   "execution_count": null,
   "id": "39d4f500",
   "metadata": {},
   "outputs": [],
   "source": []
  }
 ],
 "metadata": {
  "kernelspec": {
   "display_name": "TypeScript",
   "language": "typescript",
   "name": "tslab"
  },
  "language_info": {
   "codemirror_mode": {
    "mode": "typescript",
    "name": "javascript",
    "typescript": true
   },
   "file_extension": ".ts",
   "mimetype": "text/typescript",
   "name": "typescript",
   "version": "3.7.2"
  }
 },
 "nbformat": 4,
 "nbformat_minor": 5
}
